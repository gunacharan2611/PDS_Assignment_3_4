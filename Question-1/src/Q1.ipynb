{
  "nbformat": 4,
  "nbformat_minor": 0,
  "metadata": {
    "colab": {
      "provenance": []
    },
    "kernelspec": {
      "name": "python3",
      "display_name": "Python 3"
    },
    "language_info": {
      "name": "python"
    }
  },
  "cells": [
    {
      "cell_type": "code",
      "source": [
        "pip install dash requests"
      ],
      "metadata": {
        "colab": {
          "base_uri": "https://localhost:8080/"
        },
        "id": "ylyZWxj3rDTz",
        "outputId": "56abe854-f4b1-4475-a62e-f6f89d2ce16a"
      },
      "execution_count": 25,
      "outputs": [
        {
          "output_type": "stream",
          "name": "stdout",
          "text": [
            "Requirement already satisfied: dash in /usr/local/lib/python3.10/dist-packages (2.16.1)\n",
            "Requirement already satisfied: requests in /usr/local/lib/python3.10/dist-packages (2.31.0)\n",
            "Requirement already satisfied: Flask<3.1,>=1.0.4 in /usr/local/lib/python3.10/dist-packages (from dash) (2.2.5)\n",
            "Requirement already satisfied: Werkzeug<3.1 in /usr/local/lib/python3.10/dist-packages (from dash) (3.0.2)\n",
            "Requirement already satisfied: plotly>=5.0.0 in /usr/local/lib/python3.10/dist-packages (from dash) (5.15.0)\n",
            "Requirement already satisfied: dash-html-components==2.0.0 in /usr/local/lib/python3.10/dist-packages (from dash) (2.0.0)\n",
            "Requirement already satisfied: dash-core-components==2.0.0 in /usr/local/lib/python3.10/dist-packages (from dash) (2.0.0)\n",
            "Requirement already satisfied: dash-table==5.0.0 in /usr/local/lib/python3.10/dist-packages (from dash) (5.0.0)\n",
            "Requirement already satisfied: importlib-metadata in /usr/local/lib/python3.10/dist-packages (from dash) (7.1.0)\n",
            "Requirement already satisfied: typing-extensions>=4.1.1 in /usr/local/lib/python3.10/dist-packages (from dash) (4.11.0)\n",
            "Requirement already satisfied: retrying in /usr/local/lib/python3.10/dist-packages (from dash) (1.3.4)\n",
            "Requirement already satisfied: nest-asyncio in /usr/local/lib/python3.10/dist-packages (from dash) (1.6.0)\n",
            "Requirement already satisfied: setuptools in /usr/local/lib/python3.10/dist-packages (from dash) (67.7.2)\n",
            "Requirement already satisfied: charset-normalizer<4,>=2 in /usr/local/lib/python3.10/dist-packages (from requests) (3.3.2)\n",
            "Requirement already satisfied: idna<4,>=2.5 in /usr/local/lib/python3.10/dist-packages (from requests) (3.6)\n",
            "Requirement already satisfied: urllib3<3,>=1.21.1 in /usr/local/lib/python3.10/dist-packages (from requests) (2.0.7)\n",
            "Requirement already satisfied: certifi>=2017.4.17 in /usr/local/lib/python3.10/dist-packages (from requests) (2024.2.2)\n",
            "Requirement already satisfied: Jinja2>=3.0 in /usr/local/lib/python3.10/dist-packages (from Flask<3.1,>=1.0.4->dash) (3.1.3)\n",
            "Requirement already satisfied: itsdangerous>=2.0 in /usr/local/lib/python3.10/dist-packages (from Flask<3.1,>=1.0.4->dash) (2.1.2)\n",
            "Requirement already satisfied: click>=8.0 in /usr/local/lib/python3.10/dist-packages (from Flask<3.1,>=1.0.4->dash) (8.1.7)\n",
            "Requirement already satisfied: tenacity>=6.2.0 in /usr/local/lib/python3.10/dist-packages (from plotly>=5.0.0->dash) (8.2.3)\n",
            "Requirement already satisfied: packaging in /usr/local/lib/python3.10/dist-packages (from plotly>=5.0.0->dash) (24.0)\n",
            "Requirement already satisfied: MarkupSafe>=2.1.1 in /usr/local/lib/python3.10/dist-packages (from Werkzeug<3.1->dash) (2.1.5)\n",
            "Requirement already satisfied: zipp>=0.5 in /usr/local/lib/python3.10/dist-packages (from importlib-metadata->dash) (3.18.1)\n",
            "Requirement already satisfied: six>=1.7.0 in /usr/local/lib/python3.10/dist-packages (from retrying->dash) (1.16.0)\n"
          ]
        }
      ]
    },
    {
      "cell_type": "code",
      "source": [
        "import requests\n",
        "\n",
        "url = \"https://basketapi1.p.rapidapi.com/api/basketball/search/kevin\"\n",
        "\n",
        "headers = {\n",
        "\t\"X-RapidAPI-Key\": \"d131fb64admsh789b8966ad28365p1955f2jsn9fd87e1a419d\",\n",
        "\t\"X-RapidAPI-Host\": \"basketapi1.p.rapidapi.com\"\n",
        "}\n",
        "\n",
        "response = requests.get(url, headers=headers)\n",
        "\n",
        "print(response.json())"
      ],
      "metadata": {
        "colab": {
          "base_uri": "https://localhost:8080/"
        },
        "id": "x3Vk7tdNv3ur",
        "outputId": "2daa5770-e9cc-4292-baa7-de69e29e54fd"
      },
      "execution_count": 26,
      "outputs": [
        {
          "output_type": "stream",
          "name": "stdout",
          "text": [
            "{'results': [{'entity': {'country': {'alpha2': 'US', 'name': 'USA'}, 'firstName': 'Kevin', 'id': 817074, 'lastName': 'Durant', 'name': 'Kevin Durant', 'position': 'F', 'shortName': 'K. Durant', 'slug': 'durant-kevin', 'team': {'country': {'alpha2': 'US', 'name': 'USA'}, 'disabled': False, 'gender': 'M', 'id': 3416, 'name': 'Phoenix Suns', 'nameCode': 'PHX', 'national': False, 'shortName': 'Suns', 'slug': 'phoenix-suns', 'sport': {'id': 2, 'name': 'Basketball', 'slug': 'basketball'}, 'teamColors': {'primary': '#e56020', 'secondary': '#1d1160', 'text': '#1d1160'}, 'type': 0, 'userCount': 62611}, 'userCount': 46995}, 'score': 27760.156, 'type': 'player'}, {'entity': {'country': {'alpha2': 'US', 'name': 'USA'}, 'id': 804179, 'name': 'Kevin Ollie', 'shortName': 'K. Ollie', 'slug': 'kevin-ollie', 'sport': {'id': 2, 'name': 'Basketball', 'slug': 'basketball'}, 'team': {'country': {'alpha2': 'US', 'name': 'USA'}, 'disabled': False, 'gender': 'M', 'id': 3436, 'name': 'Brooklyn Nets', 'nameCode': 'BKN', 'national': False, 'shortName': 'Nets', 'slug': 'brooklyn-nets', 'sport': {'id': 2, 'name': 'Basketball', 'slug': 'basketball'}, 'teamColors': {'primary': '#ffffff', 'secondary': '#000000', 'text': '#000000'}, 'type': 0, 'userCount': 56980}}, 'score': 13541.957, 'type': 'manager'}, {'entity': {'country': {'alpha2': 'US', 'name': 'USA'}, 'id': 998697, 'name': 'Kevin Punter', 'position': 'F', 'shortName': 'K. Punter', 'slug': 'punter-kevin', 'team': {'country': {'alpha2': 'RS', 'name': 'Serbia'}, 'disabled': False, 'gender': 'M', 'id': 6637, 'name': 'KK Partizan Mozzart Bet', 'nameCode': 'PAR', 'national': False, 'shortName': 'Partizan Mozzart', 'slug': 'kk-partizan-mozzart-bet', 'sport': {'id': 2, 'name': 'Basketball', 'slug': 'basketball'}, 'teamColors': {'primary': '#000000', 'secondary': '#ffffff', 'text': '#ffffff'}, 'type': 0, 'userCount': 61845}, 'userCount': 2707}, 'score': 11446.37, 'type': 'player'}, {'entity': {'country': {'alpha2': 'US', 'name': 'USA'}, 'firstName': 'Kevin', 'id': 817238, 'lastName': 'Love ', 'name': 'Kevin Love', 'position': 'FC', 'shortName': 'K. Love', 'slug': 'kevin-love', 'team': {'country': {'alpha2': 'US', 'name': 'USA'}, 'disabled': False, 'gender': 'M', 'id': 3435, 'name': 'Miami Heat', 'nameCode': 'MIA', 'national': False, 'shortName': 'Heat', 'slug': 'miami-heat', 'sport': {'id': 2, 'name': 'Basketball', 'slug': 'basketball'}, 'teamColors': {'primary': '#98002e', 'secondary': '#000000', 'text': '#000000'}, 'type': 0, 'userCount': 82820}, 'userCount': 1437}, 'score': 10001.577, 'type': 'player'}]}\n"
          ]
        }
      ]
    },
    {
      "cell_type": "code",
      "execution_count": 29,
      "metadata": {
        "colab": {
          "base_uri": "https://localhost:8080/",
          "height": 671
        },
        "id": "YsPsUCgspRGP",
        "outputId": "fe99fb14-a3a5-41b2-fb5a-1122efff74a6"
      },
      "outputs": [
        {
          "output_type": "display_data",
          "data": {
            "text/plain": [
              "<IPython.core.display.Javascript object>"
            ],
            "application/javascript": [
              "(async (port, path, width, height, cache, element) => {\n",
              "    if (!google.colab.kernel.accessAllowed && !cache) {\n",
              "      return;\n",
              "    }\n",
              "    element.appendChild(document.createTextNode(''));\n",
              "    const url = await google.colab.kernel.proxyPort(port, {cache});\n",
              "    const iframe = document.createElement('iframe');\n",
              "    iframe.src = new URL(path, url).toString();\n",
              "    iframe.height = height;\n",
              "    iframe.width = width;\n",
              "    iframe.style.border = 0;\n",
              "    iframe.allow = [\n",
              "        'accelerometer',\n",
              "        'autoplay',\n",
              "        'camera',\n",
              "        'clipboard-read',\n",
              "        'clipboard-write',\n",
              "        'gyroscope',\n",
              "        'magnetometer',\n",
              "        'microphone',\n",
              "        'serial',\n",
              "        'usb',\n",
              "        'xr-spatial-tracking',\n",
              "    ].join('; ');\n",
              "    element.appendChild(iframe);\n",
              "  })(8050, \"/\", \"100%\", 650, false, window.element)"
            ]
          },
          "metadata": {}
        }
      ],
      "source": [
        "import dash\n",
        "from dash import dcc, html, Input, Output\n",
        "import requests\n",
        "\n",
        "app = dash.Dash(__name__)\n",
        "\n",
        "# Define API details\n",
        "url = \"https://basketapi1.p.rapidapi.com/api/basketball/search/kevin\"\n",
        "headers = {\n",
        "    \"X-RapidAPI-Key\": \"d131fb64admsh789b8966ad28365p1955f2jsn9fd87e1a419d\",\n",
        "    \"X-RapidAPI-Host\": \"basketapi1.p.rapidapi.com\"\n",
        "}\n",
        "\n",
        "# Make API request\n",
        "response = requests.get(url, headers=headers)\n",
        "data = response.json()\n",
        "\n",
        "# Extracting relevant information\n",
        "results = data.get('results', [])\n",
        "kevin_players = [result['entity']['name'] for result in results if 'kevin' in result['entity']['name'].lower()]\n",
        "kevin_teams = [result['entity']['team']['name'] for result in results if 'kevin' in result['entity']['name'].lower()]\n",
        "\n",
        "# Define layout\n",
        "app.layout = html.Div([\n",
        "    html.H1(\"Basketball Players and Teams with 'Kevin'\"),\n",
        "    html.H2(\"Player Names:\"),\n",
        "    html.Ul([\n",
        "        html.Li(player) for player in kevin_players\n",
        "    ]),\n",
        "    html.H2(\"Team Names:\"),\n",
        "    html.Ul([\n",
        "        html.Li(team) for team in kevin_teams\n",
        "    ])\n",
        "])\n",
        "\n",
        "if __name__ == '__main__':\n",
        "    app.run_server(debug=True)\n"
      ]
    },
    {
      "cell_type": "code",
      "source": [],
      "metadata": {
        "id": "aB3WcVwHtsVg"
      },
      "execution_count": null,
      "outputs": []
    }
  ]
}